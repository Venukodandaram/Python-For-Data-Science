{
 "cells": [
  {
   "cell_type": "code",
   "execution_count": 3,
   "metadata": {},
   "outputs": [],
   "source": [
    "import numpy as np\n",
    "import pandas as pd"
   ]
  },
  {
   "cell_type": "code",
   "execution_count": 4,
   "metadata": {},
   "outputs": [
    {
     "data": {
      "text/html": [
       "<div>\n",
       "<style scoped>\n",
       "    .dataframe tbody tr th:only-of-type {\n",
       "        vertical-align: middle;\n",
       "    }\n",
       "\n",
       "    .dataframe tbody tr th {\n",
       "        vertical-align: top;\n",
       "    }\n",
       "\n",
       "    .dataframe thead th {\n",
       "        text-align: right;\n",
       "    }\n",
       "</style>\n",
       "<table border=\"1\" class=\"dataframe\">\n",
       "  <thead>\n",
       "    <tr style=\"text-align: right;\">\n",
       "      <th></th>\n",
       "      <th>Unnamed: 0</th>\n",
       "      <th>name</th>\n",
       "      <th>Birth Month</th>\n",
       "      <th>Birth Year</th>\n",
       "      <th>Day</th>\n",
       "      <th>Height</th>\n",
       "      <th>Remarks</th>\n",
       "    </tr>\n",
       "  </thead>\n",
       "  <tbody>\n",
       "    <tr>\n",
       "      <th>0</th>\n",
       "      <td>1</td>\n",
       "      <td>David</td>\n",
       "      <td>5</td>\n",
       "      <td>88</td>\n",
       "      <td>1st Monday</td>\n",
       "      <td>2'0''</td>\n",
       "      <td>Boy  with Left biggerfoot and Right dominant hand</td>\n",
       "    </tr>\n",
       "    <tr>\n",
       "      <th>1</th>\n",
       "      <td>2</td>\n",
       "      <td>Lars</td>\n",
       "      <td>10</td>\n",
       "      <td>87</td>\n",
       "      <td>3rd Tuesday</td>\n",
       "      <td>2'1''</td>\n",
       "      <td>Boy  with Left biggerfoot and Left dominant hand</td>\n",
       "    </tr>\n",
       "    <tr>\n",
       "      <th>2</th>\n",
       "      <td>3</td>\n",
       "      <td>Zach</td>\n",
       "      <td>12</td>\n",
       "      <td>87</td>\n",
       "      <td>2nd Saturday</td>\n",
       "      <td>2'0''</td>\n",
       "      <td>Boy  with Right biggerfoot and Right dominant ...</td>\n",
       "    </tr>\n",
       "    <tr>\n",
       "      <th>3</th>\n",
       "      <td>4</td>\n",
       "      <td>Josh</td>\n",
       "      <td>1</td>\n",
       "      <td>88</td>\n",
       "      <td>1st Tuesday</td>\n",
       "      <td>2'1''</td>\n",
       "      <td>Boy  with Left biggerfoot and Right dominant hand</td>\n",
       "    </tr>\n",
       "    <tr>\n",
       "      <th>4</th>\n",
       "      <td>5</td>\n",
       "      <td>Lang</td>\n",
       "      <td>2</td>\n",
       "      <td>88</td>\n",
       "      <td>1st Monday</td>\n",
       "      <td>2'1''</td>\n",
       "      <td>Boy  with Left biggerfoot and Right dominant hand</td>\n",
       "    </tr>\n",
       "  </tbody>\n",
       "</table>\n",
       "</div>"
      ],
      "text/plain": [
       "   Unnamed: 0   name  Birth Month  Birth Year           Day Height  \\\n",
       "0           1  David            5          88    1st Monday  2'0''   \n",
       "1           2   Lars           10          87   3rd Tuesday  2'1''   \n",
       "2           3   Zach           12          87  2nd Saturday  2'0''   \n",
       "3           4   Josh            1          88   1st Tuesday  2'1''   \n",
       "4           5   Lang            2          88    1st Monday  2'1''   \n",
       "\n",
       "                                             Remarks  \n",
       "0  Boy  with Left biggerfoot and Right dominant hand  \n",
       "1   Boy  with Left biggerfoot and Left dominant hand  \n",
       "2  Boy  with Right biggerfoot and Right dominant ...  \n",
       "3  Boy  with Left biggerfoot and Right dominant hand  \n",
       "4  Boy  with Left biggerfoot and Right dominant hand  "
      ]
     },
     "execution_count": 4,
     "metadata": {},
     "output_type": "execute_result"
    }
   ],
   "source": [
    "data = pd.read_csv('Child_data.csv')\n",
    "data.head()\n"
   ]
  },
  {
   "cell_type": "code",
   "execution_count": 5,
   "metadata": {},
   "outputs": [
    {
     "data": {
      "text/plain": [
       "Index(['Unnamed: 0', 'name', 'Birth Month', 'Birth Year', 'Day', 'Height',\n",
       "       'Remarks'],\n",
       "      dtype='object')"
      ]
     },
     "execution_count": 5,
     "metadata": {},
     "output_type": "execute_result"
    }
   ],
   "source": [
    "data.columns"
   ]
  },
  {
   "cell_type": "code",
   "execution_count": 6,
   "metadata": {},
   "outputs": [],
   "source": [
    "data.drop(columns = 'Unnamed: 0',inplace = True)"
   ]
  },
  {
   "cell_type": "code",
   "execution_count": 7,
   "metadata": {},
   "outputs": [],
   "source": [
    "for i in range(len(data.Remarks)):\n",
    "    if data.Remarks[i][0] == 'B':\n",
    "        data.loc[i, 'Gender'] = 'Boy'\n",
    "    else:\n",
    "        data.loc[i,'Gender'] = 'Girl'"
   ]
  },
  {
   "cell_type": "code",
   "execution_count": 8,
   "metadata": {},
   "outputs": [
    {
     "data": {
      "text/html": [
       "<div>\n",
       "<style scoped>\n",
       "    .dataframe tbody tr th:only-of-type {\n",
       "        vertical-align: middle;\n",
       "    }\n",
       "\n",
       "    .dataframe tbody tr th {\n",
       "        vertical-align: top;\n",
       "    }\n",
       "\n",
       "    .dataframe thead th {\n",
       "        text-align: right;\n",
       "    }\n",
       "</style>\n",
       "<table border=\"1\" class=\"dataframe\">\n",
       "  <thead>\n",
       "    <tr style=\"text-align: right;\">\n",
       "      <th></th>\n",
       "      <th>name</th>\n",
       "      <th>Birth Month</th>\n",
       "      <th>Birth Year</th>\n",
       "      <th>Day</th>\n",
       "      <th>Height</th>\n",
       "      <th>Remarks</th>\n",
       "      <th>Gender</th>\n",
       "    </tr>\n",
       "  </thead>\n",
       "  <tbody>\n",
       "    <tr>\n",
       "      <th>34</th>\n",
       "      <td>Peter</td>\n",
       "      <td>4</td>\n",
       "      <td>88</td>\n",
       "      <td>2nd Saturday</td>\n",
       "      <td>2'0''</td>\n",
       "      <td>Boy  with Right biggerfoot and Left dominant hand</td>\n",
       "      <td>Boy</td>\n",
       "    </tr>\n",
       "    <tr>\n",
       "      <th>35</th>\n",
       "      <td>Hannah</td>\n",
       "      <td>3</td>\n",
       "      <td>88</td>\n",
       "      <td>1st Sunday</td>\n",
       "      <td>1'10''</td>\n",
       "      <td>Girl  with Left biggerfoot and Right dominant ...</td>\n",
       "      <td>Girl</td>\n",
       "    </tr>\n",
       "    <tr>\n",
       "      <th>36</th>\n",
       "      <td>Teshanna</td>\n",
       "      <td>3</td>\n",
       "      <td>88</td>\n",
       "      <td>1st Thursday</td>\n",
       "      <td>2'2''</td>\n",
       "      <td>Girl  with Left biggerfoot and Right dominant ...</td>\n",
       "      <td>Girl</td>\n",
       "    </tr>\n",
       "    <tr>\n",
       "      <th>37</th>\n",
       "      <td>Hayley</td>\n",
       "      <td>1</td>\n",
       "      <td>88</td>\n",
       "      <td>2nd Thursday</td>\n",
       "      <td>1'9''</td>\n",
       "      <td>Girl  with Right biggerfoot and Right dominant...</td>\n",
       "      <td>Girl</td>\n",
       "    </tr>\n",
       "    <tr>\n",
       "      <th>38</th>\n",
       "      <td>Alisha</td>\n",
       "      <td>9</td>\n",
       "      <td>88</td>\n",
       "      <td>4th Sunday</td>\n",
       "      <td>2'0''</td>\n",
       "      <td>Girl  with Left biggerfoot and Right dominant ...</td>\n",
       "      <td>Girl</td>\n",
       "    </tr>\n",
       "  </tbody>\n",
       "</table>\n",
       "</div>"
      ],
      "text/plain": [
       "        name  Birth Month  Birth Year           Day  Height  \\\n",
       "34     Peter            4          88  2nd Saturday   2'0''   \n",
       "35    Hannah            3          88    1st Sunday  1'10''   \n",
       "36  Teshanna            3          88  1st Thursday   2'2''   \n",
       "37    Hayley            1          88  2nd Thursday   1'9''   \n",
       "38    Alisha            9          88    4th Sunday   2'0''   \n",
       "\n",
       "                                              Remarks Gender  \n",
       "34  Boy  with Right biggerfoot and Left dominant hand    Boy  \n",
       "35  Girl  with Left biggerfoot and Right dominant ...   Girl  \n",
       "36  Girl  with Left biggerfoot and Right dominant ...   Girl  \n",
       "37  Girl  with Right biggerfoot and Right dominant...   Girl  \n",
       "38  Girl  with Left biggerfoot and Right dominant ...   Girl  "
      ]
     },
     "execution_count": 8,
     "metadata": {},
     "output_type": "execute_result"
    }
   ],
   "source": [
    "data.tail()"
   ]
  },
  {
   "cell_type": "code",
   "execution_count": 9,
   "metadata": {},
   "outputs": [
    {
     "data": {
      "text/plain": [
       "'B'"
      ]
     },
     "execution_count": 9,
     "metadata": {},
     "output_type": "execute_result"
    }
   ],
   "source": [
    "data.Remarks[0][0]"
   ]
  },
  {
   "cell_type": "code",
   "execution_count": 10,
   "metadata": {},
   "outputs": [],
   "source": [
    "for i in range(len(data.Remarks)):\n",
    "    if data.Remarks[i][0] == 'B':\n",
    "        data.loc[i,'Gender'] = 'Male'\n",
    "    else:\n",
    "        data.loc[i,'Gender'] = 'Female'"
   ]
  },
  {
   "cell_type": "code",
   "execution_count": 12,
   "metadata": {},
   "outputs": [],
   "source": [
    "for i in range(len(data.Remarks)):\n",
    "    if(data.Remarks.str.contains('Left dominant hand' and 'Left biggerfoot'))[i]:\n",
    "        data.loc[i,'Dominant Hand (L/R)' and 'Bigger Foot(L/R)'] = 'L'\n",
    "    elif(data.Remarks.str.contains('Right dominant hand' and 'Right biggerfoot'))[i]:\n",
    "        data.loc[i,'Dominant Hand (L/R)' and 'Bigger Foot(L/R)']  = 'R'\n",
    "        "
   ]
  },
  {
   "cell_type": "code",
   "execution_count": 13,
   "metadata": {},
   "outputs": [
    {
     "data": {
      "text/html": [
       "<div>\n",
       "<style scoped>\n",
       "    .dataframe tbody tr th:only-of-type {\n",
       "        vertical-align: middle;\n",
       "    }\n",
       "\n",
       "    .dataframe tbody tr th {\n",
       "        vertical-align: top;\n",
       "    }\n",
       "\n",
       "    .dataframe thead th {\n",
       "        text-align: right;\n",
       "    }\n",
       "</style>\n",
       "<table border=\"1\" class=\"dataframe\">\n",
       "  <thead>\n",
       "    <tr style=\"text-align: right;\">\n",
       "      <th></th>\n",
       "      <th>name</th>\n",
       "      <th>Birth Month</th>\n",
       "      <th>Birth Year</th>\n",
       "      <th>Day</th>\n",
       "      <th>Height</th>\n",
       "      <th>Remarks</th>\n",
       "      <th>Gender</th>\n",
       "      <th>Dominant Hand (L/R)</th>\n",
       "      <th>Bigger Foot(L/R)</th>\n",
       "    </tr>\n",
       "  </thead>\n",
       "  <tbody>\n",
       "    <tr>\n",
       "      <th>34</th>\n",
       "      <td>Peter</td>\n",
       "      <td>4</td>\n",
       "      <td>88</td>\n",
       "      <td>2nd Saturday</td>\n",
       "      <td>2'0''</td>\n",
       "      <td>Boy  with Right biggerfoot and Left dominant hand</td>\n",
       "      <td>Male</td>\n",
       "      <td>L</td>\n",
       "      <td>R</td>\n",
       "    </tr>\n",
       "    <tr>\n",
       "      <th>35</th>\n",
       "      <td>Hannah</td>\n",
       "      <td>3</td>\n",
       "      <td>88</td>\n",
       "      <td>1st Sunday</td>\n",
       "      <td>1'10''</td>\n",
       "      <td>Girl  with Left biggerfoot and Right dominant ...</td>\n",
       "      <td>Female</td>\n",
       "      <td>R</td>\n",
       "      <td>L</td>\n",
       "    </tr>\n",
       "    <tr>\n",
       "      <th>36</th>\n",
       "      <td>Teshanna</td>\n",
       "      <td>3</td>\n",
       "      <td>88</td>\n",
       "      <td>1st Thursday</td>\n",
       "      <td>2'2''</td>\n",
       "      <td>Girl  with Left biggerfoot and Right dominant ...</td>\n",
       "      <td>Female</td>\n",
       "      <td>R</td>\n",
       "      <td>L</td>\n",
       "    </tr>\n",
       "    <tr>\n",
       "      <th>37</th>\n",
       "      <td>Hayley</td>\n",
       "      <td>1</td>\n",
       "      <td>88</td>\n",
       "      <td>2nd Thursday</td>\n",
       "      <td>1'9''</td>\n",
       "      <td>Girl  with Right biggerfoot and Right dominant...</td>\n",
       "      <td>Female</td>\n",
       "      <td>R</td>\n",
       "      <td>R</td>\n",
       "    </tr>\n",
       "    <tr>\n",
       "      <th>38</th>\n",
       "      <td>Alisha</td>\n",
       "      <td>9</td>\n",
       "      <td>88</td>\n",
       "      <td>4th Sunday</td>\n",
       "      <td>2'0''</td>\n",
       "      <td>Girl  with Left biggerfoot and Right dominant ...</td>\n",
       "      <td>Female</td>\n",
       "      <td>R</td>\n",
       "      <td>L</td>\n",
       "    </tr>\n",
       "  </tbody>\n",
       "</table>\n",
       "</div>"
      ],
      "text/plain": [
       "        name  Birth Month  Birth Year           Day  Height  \\\n",
       "34     Peter            4          88  2nd Saturday   2'0''   \n",
       "35    Hannah            3          88    1st Sunday  1'10''   \n",
       "36  Teshanna            3          88  1st Thursday   2'2''   \n",
       "37    Hayley            1          88  2nd Thursday   1'9''   \n",
       "38    Alisha            9          88    4th Sunday   2'0''   \n",
       "\n",
       "                                              Remarks  Gender  \\\n",
       "34  Boy  with Right biggerfoot and Left dominant hand    Male   \n",
       "35  Girl  with Left biggerfoot and Right dominant ...  Female   \n",
       "36  Girl  with Left biggerfoot and Right dominant ...  Female   \n",
       "37  Girl  with Right biggerfoot and Right dominant...  Female   \n",
       "38  Girl  with Left biggerfoot and Right dominant ...  Female   \n",
       "\n",
       "   Dominant Hand (L/R) Bigger Foot(L/R)  \n",
       "34                   L                R  \n",
       "35                   R                L  \n",
       "36                   R                L  \n",
       "37                   R                R  \n",
       "38                   R                L  "
      ]
     },
     "execution_count": 13,
     "metadata": {},
     "output_type": "execute_result"
    }
   ],
   "source": [
    "data.tail()"
   ]
  },
  {
   "cell_type": "code",
   "execution_count": 14,
   "metadata": {},
   "outputs": [],
   "source": [
    "for i in range(len(data.Height)):\n",
    "    hcm = data.Height[i].split()\n",
    "    ft = int(data.Height[i][0])\n",
    "    inch = int(data.Height[i][2])\n",
    "    \n",
    "    inch += ft * 12\n",
    "    h_cm = round(inch * 2.54, 1)\n",
    "    \n",
    "    data.loc[i, 'H in Cms'] = h_cm"
   ]
  },
  {
   "cell_type": "code",
   "execution_count": 15,
   "metadata": {},
   "outputs": [
    {
     "data": {
      "text/plain": [
       "6"
      ]
     },
     "execution_count": 15,
     "metadata": {},
     "output_type": "execute_result"
    }
   ],
   "source": [
    "inu =3\n",
    "inu += 1+2\n",
    "inu"
   ]
  },
  {
   "cell_type": "code",
   "execution_count": 16,
   "metadata": {},
   "outputs": [],
   "source": [
    "for i in range(len(data.Height)):\n",
    "    hcm = data.Height[i].split()\n",
    "    ft = int(data.Height[i][0])\n",
    "    inch = int(data.Height[i][0])"
   ]
  },
  {
   "cell_type": "code",
   "execution_count": 17,
   "metadata": {},
   "outputs": [],
   "source": [
    "d = data.Height[0].split()"
   ]
  },
  {
   "cell_type": "code",
   "execution_count": 18,
   "metadata": {},
   "outputs": [
    {
     "data": {
      "text/plain": [
       "[\"2'0''\"]"
      ]
     },
     "execution_count": 18,
     "metadata": {},
     "output_type": "execute_result"
    }
   ],
   "source": [
    "d"
   ]
  },
  {
   "cell_type": "code",
   "execution_count": 19,
   "metadata": {},
   "outputs": [],
   "source": [
    "for i in range(len(data.Height)):\n",
    "    hcm = data.Height[i].split()\n",
    "    ft = int(data.Height[i][0])\n",
    "    inch = int(data.Height[i][2])\n",
    "    inch += ft * 12\n",
    "    hcm = round(inch * 2.54,1)\n",
    "    \n",
    "    data.loc[i,'H in cm'] = hcm\n"
   ]
  },
  {
   "cell_type": "code",
   "execution_count": 20,
   "metadata": {},
   "outputs": [
    {
     "data": {
      "text/html": [
       "<div>\n",
       "<style scoped>\n",
       "    .dataframe tbody tr th:only-of-type {\n",
       "        vertical-align: middle;\n",
       "    }\n",
       "\n",
       "    .dataframe tbody tr th {\n",
       "        vertical-align: top;\n",
       "    }\n",
       "\n",
       "    .dataframe thead th {\n",
       "        text-align: right;\n",
       "    }\n",
       "</style>\n",
       "<table border=\"1\" class=\"dataframe\">\n",
       "  <thead>\n",
       "    <tr style=\"text-align: right;\">\n",
       "      <th></th>\n",
       "      <th>name</th>\n",
       "      <th>Birth Month</th>\n",
       "      <th>Birth Year</th>\n",
       "      <th>Day</th>\n",
       "      <th>Height</th>\n",
       "      <th>Remarks</th>\n",
       "      <th>Gender</th>\n",
       "      <th>Dominant Hand (L/R)</th>\n",
       "      <th>Bigger Foot(L/R)</th>\n",
       "      <th>H in Cms</th>\n",
       "      <th>H in cm</th>\n",
       "    </tr>\n",
       "  </thead>\n",
       "  <tbody>\n",
       "    <tr>\n",
       "      <th>0</th>\n",
       "      <td>David</td>\n",
       "      <td>5</td>\n",
       "      <td>88</td>\n",
       "      <td>1st Monday</td>\n",
       "      <td>2'0''</td>\n",
       "      <td>Boy  with Left biggerfoot and Right dominant hand</td>\n",
       "      <td>Male</td>\n",
       "      <td>R</td>\n",
       "      <td>L</td>\n",
       "      <td>61.0</td>\n",
       "      <td>61.0</td>\n",
       "    </tr>\n",
       "    <tr>\n",
       "      <th>1</th>\n",
       "      <td>Lars</td>\n",
       "      <td>10</td>\n",
       "      <td>87</td>\n",
       "      <td>3rd Tuesday</td>\n",
       "      <td>2'1''</td>\n",
       "      <td>Boy  with Left biggerfoot and Left dominant hand</td>\n",
       "      <td>Male</td>\n",
       "      <td>L</td>\n",
       "      <td>L</td>\n",
       "      <td>63.5</td>\n",
       "      <td>63.5</td>\n",
       "    </tr>\n",
       "    <tr>\n",
       "      <th>2</th>\n",
       "      <td>Zach</td>\n",
       "      <td>12</td>\n",
       "      <td>87</td>\n",
       "      <td>2nd Saturday</td>\n",
       "      <td>2'0''</td>\n",
       "      <td>Boy  with Right biggerfoot and Right dominant ...</td>\n",
       "      <td>Male</td>\n",
       "      <td>R</td>\n",
       "      <td>R</td>\n",
       "      <td>61.0</td>\n",
       "      <td>61.0</td>\n",
       "    </tr>\n",
       "    <tr>\n",
       "      <th>3</th>\n",
       "      <td>Josh</td>\n",
       "      <td>1</td>\n",
       "      <td>88</td>\n",
       "      <td>1st Tuesday</td>\n",
       "      <td>2'1''</td>\n",
       "      <td>Boy  with Left biggerfoot and Right dominant hand</td>\n",
       "      <td>Male</td>\n",
       "      <td>R</td>\n",
       "      <td>L</td>\n",
       "      <td>63.5</td>\n",
       "      <td>63.5</td>\n",
       "    </tr>\n",
       "    <tr>\n",
       "      <th>4</th>\n",
       "      <td>Lang</td>\n",
       "      <td>2</td>\n",
       "      <td>88</td>\n",
       "      <td>1st Monday</td>\n",
       "      <td>2'1''</td>\n",
       "      <td>Boy  with Left biggerfoot and Right dominant hand</td>\n",
       "      <td>Male</td>\n",
       "      <td>R</td>\n",
       "      <td>L</td>\n",
       "      <td>63.5</td>\n",
       "      <td>63.5</td>\n",
       "    </tr>\n",
       "  </tbody>\n",
       "</table>\n",
       "</div>"
      ],
      "text/plain": [
       "    name  Birth Month  Birth Year           Day Height  \\\n",
       "0  David            5          88    1st Monday  2'0''   \n",
       "1   Lars           10          87   3rd Tuesday  2'1''   \n",
       "2   Zach           12          87  2nd Saturday  2'0''   \n",
       "3   Josh            1          88   1st Tuesday  2'1''   \n",
       "4   Lang            2          88    1st Monday  2'1''   \n",
       "\n",
       "                                             Remarks Gender  \\\n",
       "0  Boy  with Left biggerfoot and Right dominant hand   Male   \n",
       "1   Boy  with Left biggerfoot and Left dominant hand   Male   \n",
       "2  Boy  with Right biggerfoot and Right dominant ...   Male   \n",
       "3  Boy  with Left biggerfoot and Right dominant hand   Male   \n",
       "4  Boy  with Left biggerfoot and Right dominant hand   Male   \n",
       "\n",
       "  Dominant Hand (L/R) Bigger Foot(L/R)  H in Cms  H in cm  \n",
       "0                   R                L      61.0     61.0  \n",
       "1                   L                L      63.5     63.5  \n",
       "2                   R                R      61.0     61.0  \n",
       "3                   R                L      63.5     63.5  \n",
       "4                   R                L      63.5     63.5  "
      ]
     },
     "execution_count": 20,
     "metadata": {},
     "output_type": "execute_result"
    }
   ],
   "source": [
    "data.head()"
   ]
  },
  {
   "cell_type": "code",
   "execution_count": 60,
   "metadata": {},
   "outputs": [],
   "source": []
  },
  {
   "cell_type": "code",
   "execution_count": null,
   "metadata": {},
   "outputs": [],
   "source": []
  },
  {
   "cell_type": "code",
   "execution_count": null,
   "metadata": {},
   "outputs": [],
   "source": []
  }
 ],
 "metadata": {
  "kernelspec": {
   "display_name": "Python 3",
   "language": "python",
   "name": "python3"
  },
  "language_info": {
   "codemirror_mode": {
    "name": "ipython",
    "version": 3
   },
   "file_extension": ".py",
   "mimetype": "text/x-python",
   "name": "python",
   "nbconvert_exporter": "python",
   "pygments_lexer": "ipython3",
   "version": "3.7.3"
  }
 },
 "nbformat": 4,
 "nbformat_minor": 2
}
